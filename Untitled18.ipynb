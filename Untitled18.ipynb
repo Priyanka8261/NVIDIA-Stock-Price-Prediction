{
 "cells": [
  {
   "cell_type": "markdown",
   "id": "0cfc755d",
   "metadata": {},
   "source": [
    "Predicting NVIDIA stokcs\n",
    "\n",
    "Prediction function that is going to enable us to backtest \n",
    "certain amount of data used to create the first training model - start parameter\n",
    "Use that information to compare it to the next day's stock to see if it has increased or decreased from the previous day\n",
    "\n",
    "Market would go down 2000 days and up 1600 days \n",
    "\n",
    "Columns into the dataframe - 1. NVIDIA stock is going up or down on consecutive days \n",
    "                             2. threshold to be 0 than a 1\n",
    "                             3. If the model buys NVIDIA then the price will go up "
   ]
  },
  {
   "cell_type": "code",
   "execution_count": 1,
   "id": "8777dde1",
   "metadata": {},
   "outputs": [],
   "source": [
    "import yfinance as yf"
   ]
  },
  {
   "cell_type": "code",
   "execution_count": 2,
   "id": "c99d6ec3",
   "metadata": {},
   "outputs": [],
   "source": [
    "nvidia = yf.Ticker(\"NVDA\")"
   ]
  },
  {
   "cell_type": "code",
   "execution_count": 3,
   "id": "067fa3e3",
   "metadata": {},
   "outputs": [],
   "source": [
    "nvidia = nvidia.history(period=\"max\") #Taking all the stock prices of NVIDIA from yfinance"
   ]
  },
  {
   "cell_type": "code",
   "execution_count": 4,
   "id": "d5093508",
   "metadata": {},
   "outputs": [
    {
     "data": {
      "text/html": [
       "<div>\n",
       "<style scoped>\n",
       "    .dataframe tbody tr th:only-of-type {\n",
       "        vertical-align: middle;\n",
       "    }\n",
       "\n",
       "    .dataframe tbody tr th {\n",
       "        vertical-align: top;\n",
       "    }\n",
       "\n",
       "    .dataframe thead th {\n",
       "        text-align: right;\n",
       "    }\n",
       "</style>\n",
       "<table border=\"1\" class=\"dataframe\">\n",
       "  <thead>\n",
       "    <tr style=\"text-align: right;\">\n",
       "      <th></th>\n",
       "      <th>Open</th>\n",
       "      <th>High</th>\n",
       "      <th>Low</th>\n",
       "      <th>Close</th>\n",
       "      <th>Volume</th>\n",
       "      <th>Dividends</th>\n",
       "      <th>Stock Splits</th>\n",
       "    </tr>\n",
       "    <tr>\n",
       "      <th>Date</th>\n",
       "      <th></th>\n",
       "      <th></th>\n",
       "      <th></th>\n",
       "      <th></th>\n",
       "      <th></th>\n",
       "      <th></th>\n",
       "      <th></th>\n",
       "    </tr>\n",
       "  </thead>\n",
       "  <tbody>\n",
       "    <tr>\n",
       "      <th>1999-01-22 00:00:00-05:00</th>\n",
       "      <td>0.040125</td>\n",
       "      <td>0.044783</td>\n",
       "      <td>0.035587</td>\n",
       "      <td>0.037618</td>\n",
       "      <td>2714688000</td>\n",
       "      <td>0.0</td>\n",
       "      <td>0.0</td>\n",
       "    </tr>\n",
       "    <tr>\n",
       "      <th>1999-01-25 00:00:00-05:00</th>\n",
       "      <td>0.040603</td>\n",
       "      <td>0.042036</td>\n",
       "      <td>0.037618</td>\n",
       "      <td>0.041559</td>\n",
       "      <td>510480000</td>\n",
       "      <td>0.0</td>\n",
       "      <td>0.0</td>\n",
       "    </tr>\n",
       "    <tr>\n",
       "      <th>1999-01-26 00:00:00-05:00</th>\n",
       "      <td>0.042036</td>\n",
       "      <td>0.042872</td>\n",
       "      <td>0.037737</td>\n",
       "      <td>0.038334</td>\n",
       "      <td>343200000</td>\n",
       "      <td>0.0</td>\n",
       "      <td>0.0</td>\n",
       "    </tr>\n",
       "    <tr>\n",
       "      <th>1999-01-27 00:00:00-05:00</th>\n",
       "      <td>0.038453</td>\n",
       "      <td>0.039409</td>\n",
       "      <td>0.036303</td>\n",
       "      <td>0.038215</td>\n",
       "      <td>244368000</td>\n",
       "      <td>0.0</td>\n",
       "      <td>0.0</td>\n",
       "    </tr>\n",
       "    <tr>\n",
       "      <th>1999-01-28 00:00:00-05:00</th>\n",
       "      <td>0.038215</td>\n",
       "      <td>0.038453</td>\n",
       "      <td>0.037856</td>\n",
       "      <td>0.038095</td>\n",
       "      <td>227520000</td>\n",
       "      <td>0.0</td>\n",
       "      <td>0.0</td>\n",
       "    </tr>\n",
       "    <tr>\n",
       "      <th>...</th>\n",
       "      <td>...</td>\n",
       "      <td>...</td>\n",
       "      <td>...</td>\n",
       "      <td>...</td>\n",
       "      <td>...</td>\n",
       "      <td>...</td>\n",
       "      <td>...</td>\n",
       "    </tr>\n",
       "    <tr>\n",
       "      <th>2024-10-02 00:00:00-04:00</th>\n",
       "      <td>116.440002</td>\n",
       "      <td>119.379997</td>\n",
       "      <td>115.139999</td>\n",
       "      <td>118.849998</td>\n",
       "      <td>221845900</td>\n",
       "      <td>0.0</td>\n",
       "      <td>0.0</td>\n",
       "    </tr>\n",
       "    <tr>\n",
       "      <th>2024-10-03 00:00:00-04:00</th>\n",
       "      <td>120.919998</td>\n",
       "      <td>124.360001</td>\n",
       "      <td>120.339996</td>\n",
       "      <td>122.849998</td>\n",
       "      <td>277118000</td>\n",
       "      <td>0.0</td>\n",
       "      <td>0.0</td>\n",
       "    </tr>\n",
       "    <tr>\n",
       "      <th>2024-10-04 00:00:00-04:00</th>\n",
       "      <td>124.940002</td>\n",
       "      <td>125.040001</td>\n",
       "      <td>121.830002</td>\n",
       "      <td>124.919998</td>\n",
       "      <td>243678100</td>\n",
       "      <td>0.0</td>\n",
       "      <td>0.0</td>\n",
       "    </tr>\n",
       "    <tr>\n",
       "      <th>2024-10-07 00:00:00-04:00</th>\n",
       "      <td>124.989998</td>\n",
       "      <td>130.639999</td>\n",
       "      <td>124.949997</td>\n",
       "      <td>127.720001</td>\n",
       "      <td>346250200</td>\n",
       "      <td>0.0</td>\n",
       "      <td>0.0</td>\n",
       "    </tr>\n",
       "    <tr>\n",
       "      <th>2024-10-08 00:00:00-04:00</th>\n",
       "      <td>130.259995</td>\n",
       "      <td>133.479996</td>\n",
       "      <td>129.419998</td>\n",
       "      <td>132.889999</td>\n",
       "      <td>284485800</td>\n",
       "      <td>0.0</td>\n",
       "      <td>0.0</td>\n",
       "    </tr>\n",
       "  </tbody>\n",
       "</table>\n",
       "<p>6470 rows × 7 columns</p>\n",
       "</div>"
      ],
      "text/plain": [
       "                                 Open        High         Low       Close  \\\n",
       "Date                                                                        \n",
       "1999-01-22 00:00:00-05:00    0.040125    0.044783    0.035587    0.037618   \n",
       "1999-01-25 00:00:00-05:00    0.040603    0.042036    0.037618    0.041559   \n",
       "1999-01-26 00:00:00-05:00    0.042036    0.042872    0.037737    0.038334   \n",
       "1999-01-27 00:00:00-05:00    0.038453    0.039409    0.036303    0.038215   \n",
       "1999-01-28 00:00:00-05:00    0.038215    0.038453    0.037856    0.038095   \n",
       "...                               ...         ...         ...         ...   \n",
       "2024-10-02 00:00:00-04:00  116.440002  119.379997  115.139999  118.849998   \n",
       "2024-10-03 00:00:00-04:00  120.919998  124.360001  120.339996  122.849998   \n",
       "2024-10-04 00:00:00-04:00  124.940002  125.040001  121.830002  124.919998   \n",
       "2024-10-07 00:00:00-04:00  124.989998  130.639999  124.949997  127.720001   \n",
       "2024-10-08 00:00:00-04:00  130.259995  133.479996  129.419998  132.889999   \n",
       "\n",
       "                               Volume  Dividends  Stock Splits  \n",
       "Date                                                            \n",
       "1999-01-22 00:00:00-05:00  2714688000        0.0           0.0  \n",
       "1999-01-25 00:00:00-05:00   510480000        0.0           0.0  \n",
       "1999-01-26 00:00:00-05:00   343200000        0.0           0.0  \n",
       "1999-01-27 00:00:00-05:00   244368000        0.0           0.0  \n",
       "1999-01-28 00:00:00-05:00   227520000        0.0           0.0  \n",
       "...                               ...        ...           ...  \n",
       "2024-10-02 00:00:00-04:00   221845900        0.0           0.0  \n",
       "2024-10-03 00:00:00-04:00   277118000        0.0           0.0  \n",
       "2024-10-04 00:00:00-04:00   243678100        0.0           0.0  \n",
       "2024-10-07 00:00:00-04:00   346250200        0.0           0.0  \n",
       "2024-10-08 00:00:00-04:00   284485800        0.0           0.0  \n",
       "\n",
       "[6470 rows x 7 columns]"
      ]
     },
     "execution_count": 4,
     "metadata": {},
     "output_type": "execute_result"
    }
   ],
   "source": [
    "nvidia"
   ]
  },
  {
   "cell_type": "code",
   "execution_count": 5,
   "id": "2508b049",
   "metadata": {},
   "outputs": [
    {
     "data": {
      "text/plain": [
       "DatetimeIndex(['1999-01-22 00:00:00-05:00', '1999-01-25 00:00:00-05:00',\n",
       "               '1999-01-26 00:00:00-05:00', '1999-01-27 00:00:00-05:00',\n",
       "               '1999-01-28 00:00:00-05:00', '1999-01-29 00:00:00-05:00',\n",
       "               '1999-02-01 00:00:00-05:00', '1999-02-02 00:00:00-05:00',\n",
       "               '1999-02-03 00:00:00-05:00', '1999-02-04 00:00:00-05:00',\n",
       "               ...\n",
       "               '2024-09-25 00:00:00-04:00', '2024-09-26 00:00:00-04:00',\n",
       "               '2024-09-27 00:00:00-04:00', '2024-09-30 00:00:00-04:00',\n",
       "               '2024-10-01 00:00:00-04:00', '2024-10-02 00:00:00-04:00',\n",
       "               '2024-10-03 00:00:00-04:00', '2024-10-04 00:00:00-04:00',\n",
       "               '2024-10-07 00:00:00-04:00', '2024-10-08 00:00:00-04:00'],\n",
       "              dtype='datetime64[ns, America/New_York]', name='Date', length=6470, freq=None)"
      ]
     },
     "execution_count": 5,
     "metadata": {},
     "output_type": "execute_result"
    }
   ],
   "source": [
    "#Get the closing prices of the current days isonf index\n",
    "nvidia.index"
   ]
  },
  {
   "cell_type": "code",
   "execution_count": 6,
   "id": "1e3b25c2",
   "metadata": {},
   "outputs": [
    {
     "data": {
      "text/plain": [
       "<Axes: xlabel='Date'>"
      ]
     },
     "execution_count": 6,
     "metadata": {},
     "output_type": "execute_result"
    },
    {
     "data": {
      "image/png": "[encoded data removed]",
      "text/plain": [
       "<Figure size 640x480 with 1 Axes>"
      ]
     },
     "metadata": {},
     "output_type": "display_data"
    }
   ],
   "source": [
    "#Plot the closing prices of the stocks on a line graph \n",
    "nvidia.plot.line(y=\"Close\", use_index =True)\n",
    "#True because value has to exist in that index"
   ]
  },
  {
   "cell_type": "code",
   "execution_count": 7,
   "id": "a3fad5d9",
   "metadata": {},
   "outputs": [],
   "source": [
    "#Creating a baseline model prediction for the closing prices for tomorrow \n",
    "nvidia[\"Tomorrow\"]= nvidia[\"Close\"].shift(-1)"
   ]
  },
  {
   "cell_type": "code",
   "execution_count": null,
   "id": "b2ca5fc0",
   "metadata": {},
   "outputs": [],
   "source": [
    "nvidia"
   ]
  },
  {
   "cell_type": "code",
   "execution_count": 8,
   "id": "f2b9c872",
   "metadata": {},
   "outputs": [],
   "source": [
    "nvidia[\"Target\"] = (nvidia[\"Tomorrow\"] > nvidia[\"Close\"]).astype(int)\n",
    "#Comparing and getting the bigger one of the two and storing it as the target "
   ]
  },
  {
   "cell_type": "code",
   "execution_count": null,
   "id": "331173c5",
   "metadata": {},
   "outputs": [],
   "source": [
    "nvidia"
   ]
  },
  {
   "cell_type": "code",
   "execution_count": 9,
   "id": "1ed37859",
   "metadata": {},
   "outputs": [],
   "source": [
    "nvidia = nvidia.loc[\"2000-01-01\":].copy()\n",
    "#Accessing all the data in the timestamp index 2000-01-01"
   ]
  },
  {
   "cell_type": "code",
   "execution_count": 35,
   "id": "dce56f2a",
   "metadata": {},
   "outputs": [
    {
     "data": {
      "text/html": [
       "<style>#sk-container-id-3 {color: black;}#sk-container-id-3 pre{padding: 0;}#sk-container-id-3 div.sk-toggleable {background-color: white;}#sk-container-id-3 label.sk-toggleable__label {cursor: pointer;display: block;width: 100%;margin-bottom: 0;padding: 0.3em;box-sizing: border-box;text-align: center;}#sk-container-id-3 label.sk-toggleable__label-arrow:before {content: \"▸\";float: left;margin-right: 0.25em;color: #696969;}#sk-container-id-3 label.sk-toggleable__label-arrow:hover:before {color: black;}#sk-container-id-3 div.sk-estimator:hover label.sk-toggleable__label-arrow:before {color: black;}#sk-container-id-3 div.sk-toggleable__content {max-height: 0;max-width: 0;overflow: hidden;text-align: left;background-color: #f0f8ff;}#sk-container-id-3 div.sk-toggleable__content pre {margin: 0.2em;color: black;border-radius: 0.25em;background-color: #f0f8ff;}#sk-container-id-3 input.sk-toggleable__control:checked~div.sk-toggleable__content {max-height: 200px;max-width: 100%;overflow: auto;}#sk-container-id-3 input.sk-toggleable__control:checked~label.sk-toggleable__label-arrow:before {content: \"▾\";}#sk-container-id-3 div.sk-estimator input.sk-toggleable__control:checked~label.sk-toggleable__label {background-color: #d4ebff;}#sk-container-id-3 div.sk-label input.sk-toggleable__control:checked~label.sk-toggleable__label {background-color: #d4ebff;}#sk-container-id-3 input.sk-hidden--visually {border: 0;clip: rect(1px 1px 1px 1px);clip: rect(1px, 1px, 1px, 1px);height: 1px;margin: -1px;overflow: hidden;padding: 0;position: absolute;width: 1px;}#sk-container-id-3 div.sk-estimator {font-family: monospace;background-color: #f0f8ff;border: 1px dotted black;border-radius: 0.25em;box-sizing: border-box;margin-bottom: 0.5em;}#sk-container-id-3 div.sk-estimator:hover {background-color: #d4ebff;}#sk-container-id-3 div.sk-parallel-item::after {content: \"\";width: 100%;border-bottom: 1px solid gray;flex-grow: 1;}#sk-container-id-3 div.sk-label:hover label.sk-toggleable__label {background-color: #d4ebff;}#sk-container-id-3 div.sk-serial::before {content: \"\";position: absolute;border-left: 1px solid gray;box-sizing: border-box;top: 0;bottom: 0;left: 50%;z-index: 0;}#sk-container-id-3 div.sk-serial {display: flex;flex-direction: column;align-items: center;background-color: white;padding-right: 0.2em;padding-left: 0.2em;position: relative;}#sk-container-id-3 div.sk-item {position: relative;z-index: 1;}#sk-container-id-3 div.sk-parallel {display: flex;align-items: stretch;justify-content: center;background-color: white;position: relative;}#sk-container-id-3 div.sk-item::before, #sk-container-id-3 div.sk-parallel-item::before {content: \"\";position: absolute;border-left: 1px solid gray;box-sizing: border-box;top: 0;bottom: 0;left: 50%;z-index: -1;}#sk-container-id-3 div.sk-parallel-item {display: flex;flex-direction: column;z-index: 1;position: relative;background-color: white;}#sk-container-id-3 div.sk-parallel-item:first-child::after {align-self: flex-end;width: 50%;}#sk-container-id-3 div.sk-parallel-item:last-child::after {align-self: flex-start;width: 50%;}#sk-container-id-3 div.sk-parallel-item:only-child::after {width: 0;}#sk-container-id-3 div.sk-dashed-wrapped {border: 1px dashed gray;margin: 0 0.4em 0.5em 0.4em;box-sizing: border-box;padding-bottom: 0.4em;background-color: white;}#sk-container-id-3 div.sk-label label {font-family: monospace;font-weight: bold;display: inline-block;line-height: 1.2em;}#sk-container-id-3 div.sk-label-container {text-align: center;}#sk-container-id-3 div.sk-container {/* jupyter's `normalize.less` sets `[hidden] { display: none; }` but bootstrap.min.css set `[hidden] { display: none !important; }` so we also need the `!important` here to be able to override the default hidden behavior on the sphinx rendered scikit-learn.org. See: https://github.com/scikit-learn/scikit-learn/issues/21755 */display: inline-block !important;position: relative;}#sk-container-id-3 div.sk-text-repr-fallback {display: none;}</style><div id=\"sk-container-id-3\" class=\"sk-top-container\"><div class=\"sk-text-repr-fallback\"><pre>RandomForestClassifier(min_samples_split=100, random_state=1)</pre><b>In a Jupyter environment, please rerun this cell to show the HTML representation or trust the notebook. <br />On GitHub, the HTML representation is unable to render, please try loading this page with nbviewer.org.</b></div><div class=\"sk-container\" hidden><div class=\"sk-item\"><div class=\"sk-estimator sk-toggleable\"><input class=\"sk-toggleable__control sk-hidden--visually\" id=\"sk-estimator-id-3\" type=\"checkbox\" checked><label for=\"sk-estimator-id-3\" class=\"sk-toggleable__label sk-toggleable__label-arrow\">RandomForestClassifier</label><div class=\"sk-toggleable__content\"><pre>RandomForestClassifier(min_samples_split=100, random_state=1)</pre></div></div></div></div></div>"
      ],
      "text/plain": [
       "RandomForestClassifier(min_samples_split=100, random_state=1)"
      ]
     },
     "execution_count": 35,
     "metadata": {},
     "output_type": "execute_result"
    }
   ],
   "source": [
    "from sklearn.ensemble import RandomForestClassifier\n",
    "\n",
    "model = RandomForestClassifier(n_estimators=100, min_samples_split=100, random_state=1)\n",
    "#Splitting training and testing data\n",
    "train = nvidia.iloc[:-200]  # Use the data except the last 200 rows for training\n",
    "test = nvidia.iloc[-200:]  # Use the last 200 rows for testing\n",
    "\n",
    "predictors = [\"Close\",\"Volume\", \"Open\",\"High\",\"Low\"]\n",
    "model.fit(train[predictors], train[\"Target\"])"
   ]
  },
  {
   "cell_type": "code",
   "execution_count": 36,
   "id": "ebdbacc5",
   "metadata": {},
   "outputs": [],
   "source": [
    "from sklearn.metrics import precision_score\n",
    "predictions = model.predict(test[predictors])"
   ]
  },
  {
   "cell_type": "code",
   "execution_count": 37,
   "id": "e38a9f5b",
   "metadata": {},
   "outputs": [],
   "source": [
    "import pandas as pd\n",
    "predictions = pd.Series(predictions, index = test.index)"
   ]
  },
  {
   "cell_type": "code",
   "execution_count": 38,
   "id": "5641b6a7",
   "metadata": {},
   "outputs": [
    {
     "data": {
      "text/plain": [
       "0.7142857142857143"
      ]
     },
     "execution_count": 38,
     "metadata": {},
     "output_type": "execute_result"
    }
   ],
   "source": [
    "precision_score(test[\"Target\"], predictions)"
   ]
  },
  {
   "cell_type": "code",
   "execution_count": 14,
   "id": "f5687f79",
   "metadata": {},
   "outputs": [
    {
     "name": "stdout",
     "output_type": "stream",
     "text": [
      "Cross-validated scores: [0.47313553 0.46789727 0.41974318 0.3964687  0.43900482]\n"
     ]
    }
   ],
   "source": [
    "from sklearn.model_selection import cross_val_score\n",
    "\n",
    "scores = cross_val_score(model, nvidia[predictors], nvidia[\"Target\"], cv=5)\n",
    "print(f\"Cross-validated scores: {scores}\")\n"
   ]
  },
  {
   "cell_type": "code",
   "execution_count": 15,
   "id": "2cf5a28a",
   "metadata": {},
   "outputs": [],
   "source": [
    "combined = pd.concat([test[\"Target\"], predictions], axis =1)"
   ]
  },
  {
   "cell_type": "code",
   "execution_count": 16,
   "id": "6f5d34da",
   "metadata": {},
   "outputs": [
    {
     "data": {
      "text/plain": [
       "<Axes: xlabel='Date'>"
      ]
     },
     "execution_count": 16,
     "metadata": {},
     "output_type": "execute_result"
    },
    {
     "data": {
      "image/png": "[encoded data removed]",
      "text/plain": [
       "<Figure size 640x480 with 1 Axes>"
      ]
     },
     "metadata": {},
     "output_type": "display_data"
    }
   ],
   "source": [
    "combined.plot()"
   ]
  },
  {
   "cell_type": "code",
   "execution_count": 17,
   "id": "3943b8e0",
   "metadata": {},
   "outputs": [],
   "source": [
    "def predict(train, test, predictors, model):\n",
    "    model.fit(train[predictors],train[\"Target\"])\n",
    "    predictions = model.predict(test[predictors])\n",
    "    predictions = pd.Series(predictions, index = test.index, name = \"Predictions\")\n",
    "    combined = pd.concat([test[\"Target\"],predictions], axis = 1)\n",
    "    return combined "
   ]
  },
  {
   "cell_type": "code",
   "execution_count": 18,
   "id": "77c0edff",
   "metadata": {},
   "outputs": [],
   "source": [
    "def backtest(data, model, predictors, start = 2500, step = 250):\n",
    "    all_predictions = []\n",
    "    \n",
    "    for i in range(start, data.shape[0], step):\n",
    "        train = data.iloc[0:i].copy()\n",
    "        test = data.iloc[i:(i+step)].copy()\n",
    "        predictions = predict(train, test, predictors, model)\n",
    "        all_predictions.append(predictions)\n",
    "    return pd.concat(all_predictions)"
   ]
  },
  {
   "cell_type": "code",
   "execution_count": 19,
   "id": "109f36eb",
   "metadata": {},
   "outputs": [],
   "source": [
    "predictions = backtest(nvidia, model, predictors)"
   ]
  },
  {
   "cell_type": "code",
   "execution_count": 20,
   "id": "21723938",
   "metadata": {},
   "outputs": [
    {
     "data": {
      "text/plain": [
       "0    2072\n",
       "1    1659\n",
       "Name: Predictions, dtype: int64"
      ]
     },
     "execution_count": 20,
     "metadata": {},
     "output_type": "execute_result"
    }
   ],
   "source": [
    "predictions[\"Predictions\"].value_counts()"
   ]
  },
  {
   "cell_type": "code",
   "execution_count": 21,
   "id": "acc94b7f",
   "metadata": {},
   "outputs": [
    {
     "data": {
      "text/plain": [
       "0.5111512959614225"
      ]
     },
     "execution_count": 21,
     "metadata": {},
     "output_type": "execute_result"
    }
   ],
   "source": [
    "precision_score(predictions[\"Target\"], predictions[\"Predictions\"])"
   ]
  },
  {
   "cell_type": "code",
   "execution_count": 22,
   "id": "f9bc1708",
   "metadata": {},
   "outputs": [
    {
     "data": {
      "text/plain": [
       "1    0.528813\n",
       "0    0.471187\n",
       "Name: Target, dtype: float64"
      ]
     },
     "execution_count": 22,
     "metadata": {},
     "output_type": "execute_result"
    }
   ],
   "source": [
    "predictions[\"Target\"].value_counts() / predictions.shape[0]\n",
    "#Calculates the proportion of each class/category in the Target column of predictions dataframe"
   ]
  },
  {
   "cell_type": "code",
   "execution_count": 23,
   "id": "9a18ca5a",
   "metadata": {},
   "outputs": [],
   "source": [
    "#Adding predictors to improve the model \n",
    "#introducing time series factors into the model to discover trends and predict prices"
   ]
  },
  {
   "cell_type": "code",
   "execution_count": 24,
   "id": "b4fa6c1c",
   "metadata": {},
   "outputs": [],
   "source": [
    "horizons = [ 2, 5, 60, 250, 1000]\n",
    "new_predictors = []\n",
    "\n",
    "for horizon in horizons:\n",
    "    rolling_averages  = nvidia.rolling(horizon).mean()\n",
    "    ratio_column = f\"Close Ratio_{horizon}\"\n",
    "    nvidia[ratio_column] = nvidia[\"Close\"] / rolling_averages[\"Close\"]\n",
    "     \n",
    "    trend_column = f\"Trend_{horizon}\"\n",
    "    nvidia[trend_column] = nvidia.shift(1).rolling(horizon).sum()[\"Target\"]\n",
    "    \n",
    "    new_predictors += [ratio_column, trend_column]  "
   ]
  },
  {
   "cell_type": "code",
   "execution_count": 25,
   "id": "03d4aa42",
   "metadata": {},
   "outputs": [],
   "source": [
    "nvidia = nvidia.dropna() \n",
    "#Will drop null values"
   ]
  },
  {
   "cell_type": "code",
   "execution_count": 26,
   "id": "23229d5d",
   "metadata": {},
   "outputs": [
    {
     "data": {
      "text/html": [
       "<div>\n",
       "<style scoped>\n",
       "    .dataframe tbody tr th:only-of-type {\n",
       "        vertical-align: middle;\n",
       "    }\n",
       "\n",
       "    .dataframe tbody tr th {\n",
       "        vertical-align: top;\n",
       "    }\n",
       "\n",
       "    .dataframe thead th {\n",
       "        text-align: right;\n",
       "    }\n",
       "</style>\n",
       "<table border=\"1\" class=\"dataframe\">\n",
       "  <thead>\n",
       "    <tr style=\"text-align: right;\">\n",
       "      <th></th>\n",
       "      <th>Open</th>\n",
       "      <th>High</th>\n",
       "      <th>Low</th>\n",
       "      <th>Close</th>\n",
       "      <th>Volume</th>\n",
       "      <th>Dividends</th>\n",
       "      <th>Stock Splits</th>\n",
       "      <th>Tomorrow</th>\n",
       "      <th>Target</th>\n",
       "      <th>Close Ratio_2</th>\n",
       "      <th>Trend_2</th>\n",
       "      <th>Close Ratio_5</th>\n",
       "      <th>Trend_5</th>\n",
       "      <th>Close Ratio_60</th>\n",
       "      <th>Trend_60</th>\n",
       "      <th>Close Ratio_250</th>\n",
       "      <th>Trend_250</th>\n",
       "      <th>Close Ratio_1000</th>\n",
       "      <th>Trend_1000</th>\n",
       "    </tr>\n",
       "    <tr>\n",
       "      <th>Date</th>\n",
       "      <th></th>\n",
       "      <th></th>\n",
       "      <th></th>\n",
       "      <th></th>\n",
       "      <th></th>\n",
       "      <th></th>\n",
       "      <th></th>\n",
       "      <th></th>\n",
       "      <th></th>\n",
       "      <th></th>\n",
       "      <th></th>\n",
       "      <th></th>\n",
       "      <th></th>\n",
       "      <th></th>\n",
       "      <th></th>\n",
       "      <th></th>\n",
       "      <th></th>\n",
       "      <th></th>\n",
       "      <th></th>\n",
       "    </tr>\n",
       "  </thead>\n",
       "  <tbody>\n",
       "    <tr>\n",
       "      <th>2003-12-26 00:00:00-05:00</th>\n",
       "      <td>0.167914</td>\n",
       "      <td>0.174793</td>\n",
       "      <td>0.167226</td>\n",
       "      <td>0.173800</td>\n",
       "      <td>363960000</td>\n",
       "      <td>0.0</td>\n",
       "      <td>0.0</td>\n",
       "      <td>0.181137</td>\n",
       "      <td>1</td>\n",
       "      <td>1.021104</td>\n",
       "      <td>1.0</td>\n",
       "      <td>1.046287</td>\n",
       "      <td>4.0</td>\n",
       "      <td>1.177283</td>\n",
       "      <td>34.0</td>\n",
       "      <td>1.291599</td>\n",
       "      <td>134.0</td>\n",
       "      <td>0.809514</td>\n",
       "      <td>483.0</td>\n",
       "    </tr>\n",
       "    <tr>\n",
       "      <th>2003-12-29 00:00:00-05:00</th>\n",
       "      <td>0.177086</td>\n",
       "      <td>0.181749</td>\n",
       "      <td>0.176246</td>\n",
       "      <td>0.181137</td>\n",
       "      <td>756624000</td>\n",
       "      <td>0.0</td>\n",
       "      <td>0.0</td>\n",
       "      <td>0.181519</td>\n",
       "      <td>1</td>\n",
       "      <td>1.020672</td>\n",
       "      <td>2.0</td>\n",
       "      <td>1.064690</td>\n",
       "      <td>4.0</td>\n",
       "      <td>1.219251</td>\n",
       "      <td>34.0</td>\n",
       "      <td>1.342408</td>\n",
       "      <td>135.0</td>\n",
       "      <td>0.843319</td>\n",
       "      <td>484.0</td>\n",
       "    </tr>\n",
       "    <tr>\n",
       "      <th>2003-12-30 00:00:00-05:00</th>\n",
       "      <td>0.179226</td>\n",
       "      <td>0.184959</td>\n",
       "      <td>0.179073</td>\n",
       "      <td>0.181519</td>\n",
       "      <td>550884000</td>\n",
       "      <td>0.0</td>\n",
       "      <td>0.0</td>\n",
       "      <td>0.177315</td>\n",
       "      <td>0</td>\n",
       "      <td>1.001055</td>\n",
       "      <td>2.0</td>\n",
       "      <td>1.042125</td>\n",
       "      <td>4.0</td>\n",
       "      <td>1.214567</td>\n",
       "      <td>34.0</td>\n",
       "      <td>1.341765</td>\n",
       "      <td>135.0</td>\n",
       "      <td>0.844717</td>\n",
       "      <td>485.0</td>\n",
       "    </tr>\n",
       "    <tr>\n",
       "      <th>2003-12-31 00:00:00-05:00</th>\n",
       "      <td>0.181442</td>\n",
       "      <td>0.182283</td>\n",
       "      <td>0.174411</td>\n",
       "      <td>0.177315</td>\n",
       "      <td>497268000</td>\n",
       "      <td>0.0</td>\n",
       "      <td>0.0</td>\n",
       "      <td>0.176398</td>\n",
       "      <td>0</td>\n",
       "      <td>0.988284</td>\n",
       "      <td>1.0</td>\n",
       "      <td>1.007030</td>\n",
       "      <td>3.0</td>\n",
       "      <td>1.179849</td>\n",
       "      <td>34.0</td>\n",
       "      <td>1.307470</td>\n",
       "      <td>135.0</td>\n",
       "      <td>0.824774</td>\n",
       "      <td>485.0</td>\n",
       "    </tr>\n",
       "    <tr>\n",
       "      <th>2004-01-02 00:00:00-05:00</th>\n",
       "      <td>0.180144</td>\n",
       "      <td>0.182589</td>\n",
       "      <td>0.176398</td>\n",
       "      <td>0.176398</td>\n",
       "      <td>436416000</td>\n",
       "      <td>0.0</td>\n",
       "      <td>0.0</td>\n",
       "      <td>0.182130</td>\n",
       "      <td>1</td>\n",
       "      <td>0.997407</td>\n",
       "      <td>0.0</td>\n",
       "      <td>0.990812</td>\n",
       "      <td>3.0</td>\n",
       "      <td>1.167532</td>\n",
       "      <td>33.0</td>\n",
       "      <td>1.297849</td>\n",
       "      <td>134.0</td>\n",
       "      <td>0.820140</td>\n",
       "      <td>484.0</td>\n",
       "    </tr>\n",
       "  </tbody>\n",
       "</table>\n",
       "</div>"
      ],
      "text/plain": [
       "                               Open      High       Low     Close     Volume  \\\n",
       "Date                                                                           \n",
       "2003-12-26 00:00:00-05:00  0.167914  0.174793  0.167226  0.173800  363960000   \n",
       "2003-12-29 00:00:00-05:00  0.177086  0.181749  0.176246  0.181137  756624000   \n",
       "2003-12-30 00:00:00-05:00  0.179226  0.184959  0.179073  0.181519  550884000   \n",
       "2003-12-31 00:00:00-05:00  0.181442  0.182283  0.174411  0.177315  497268000   \n",
       "2004-01-02 00:00:00-05:00  0.180144  0.182589  0.176398  0.176398  436416000   \n",
       "\n",
       "                           Dividends  Stock Splits  Tomorrow  Target  \\\n",
       "Date                                                                   \n",
       "2003-12-26 00:00:00-05:00        0.0           0.0  0.181137       1   \n",
       "2003-12-29 00:00:00-05:00        0.0           0.0  0.181519       1   \n",
       "2003-12-30 00:00:00-05:00        0.0           0.0  0.177315       0   \n",
       "2003-12-31 00:00:00-05:00        0.0           0.0  0.176398       0   \n",
       "2004-01-02 00:00:00-05:00        0.0           0.0  0.182130       1   \n",
       "\n",
       "                           Close Ratio_2  Trend_2  Close Ratio_5  Trend_5  \\\n",
       "Date                                                                        \n",
       "2003-12-26 00:00:00-05:00       1.021104      1.0       1.046287      4.0   \n",
       "2003-12-29 00:00:00-05:00       1.020672      2.0       1.064690      4.0   \n",
       "2003-12-30 00:00:00-05:00       1.001055      2.0       1.042125      4.0   \n",
       "2003-12-31 00:00:00-05:00       0.988284      1.0       1.007030      3.0   \n",
       "2004-01-02 00:00:00-05:00       0.997407      0.0       0.990812      3.0   \n",
       "\n",
       "                           Close Ratio_60  Trend_60  Close Ratio_250  \\\n",
       "Date                                                                   \n",
       "2003-12-26 00:00:00-05:00        1.177283      34.0         1.291599   \n",
       "2003-12-29 00:00:00-05:00        1.219251      34.0         1.342408   \n",
       "2003-12-30 00:00:00-05:00        1.214567      34.0         1.341765   \n",
       "2003-12-31 00:00:00-05:00        1.179849      34.0         1.307470   \n",
       "2004-01-02 00:00:00-05:00        1.167532      33.0         1.297849   \n",
       "\n",
       "                           Trend_250  Close Ratio_1000  Trend_1000  \n",
       "Date                                                                \n",
       "2003-12-26 00:00:00-05:00      134.0          0.809514       483.0  \n",
       "2003-12-29 00:00:00-05:00      135.0          0.843319       484.0  \n",
       "2003-12-30 00:00:00-05:00      135.0          0.844717       485.0  \n",
       "2003-12-31 00:00:00-05:00      135.0          0.824774       485.0  \n",
       "2004-01-02 00:00:00-05:00      134.0          0.820140       484.0  "
      ]
     },
     "execution_count": 26,
     "metadata": {},
     "output_type": "execute_result"
    }
   ],
   "source": [
    "nvidia.head(5)"
   ]
  },
  {
   "cell_type": "markdown",
   "id": "cf74839b",
   "metadata": {},
   "source": [
    "Trend here is to judge how much the data increases or decreases over a long period of time.\n",
    "Rolling window takes a fixed size subset of the data points, performs calculations on it and them shifts that window by one data point to perform the calculations again\n"
   ]
  },
  {
   "cell_type": "markdown",
   "id": "3d440f0b",
   "metadata": {},
   "source": [
    "It means one random_state value has a fixed dataset. It means every time we run code with random_state value 1, it will produce the same splitting datasets.\n",
    "\n",
    "With Random State, you ensure that the models are trained and tested on the same data, making it easier to compare their performance."
   ]
  },
  {
   "cell_type": "code",
   "execution_count": 27,
   "id": "98ccfaf7",
   "metadata": {},
   "outputs": [],
   "source": [
    "model = RandomForestClassifier(n_estimators = 200, min_samples_split= 50, random_state =1 )"
   ]
  },
  {
   "cell_type": "code",
   "execution_count": 28,
   "id": "3033aacf",
   "metadata": {},
   "outputs": [],
   "source": [
    "def predict(train, test, predictors, model):\n",
    "    model.fit(train[predictors], train[\"Target\"])\n",
    "    predictions = model.predict_proba(test[predictors])[:,1]\n",
    "    predictions[predictions >= .6] = 1\n",
    "    predictions[predictions < .6] = 0\n",
    "    predictions = pd.Series(predictions, index = test.index, name = \"Predictions\")\n",
    "    combined = pd.concat([test[\"Target\"], predictions], axis = 1)\n",
    "    return combined\n",
    "    "
   ]
  },
  {
   "cell_type": "code",
   "execution_count": 29,
   "id": "54c43c43",
   "metadata": {},
   "outputs": [
    {
     "name": "stdout",
     "output_type": "stream",
     "text": [
      "Index(['Open', 'High', 'Low', 'Close', 'Volume', 'Dividends', 'Stock Splits',\n",
      "       'Tomorrow', 'Target', 'Close Ratio_2', 'Trend_2', 'Close Ratio_5',\n",
      "       'Trend_5', 'Close Ratio_60', 'Trend_60', 'Close Ratio_250', 'Trend_250',\n",
      "       'Close Ratio_1000', 'Trend_1000'],\n",
      "      dtype='object')\n"
     ]
    }
   ],
   "source": [
    "print(nvidia.columns)"
   ]
  },
  {
   "cell_type": "code",
   "execution_count": 39,
   "id": "6a52342e",
   "metadata": {},
   "outputs": [],
   "source": [
    "predictions = backtest(nvidia, model, new_predictors)"
   ]
  },
  {
   "cell_type": "code",
   "execution_count": 40,
   "id": "01405456",
   "metadata": {},
   "outputs": [
    {
     "data": {
      "text/plain": [
       "0.0    2516\n",
       "1.0     214\n",
       "Name: Predictions, dtype: int64"
      ]
     },
     "execution_count": 40,
     "metadata": {},
     "output_type": "execute_result"
    }
   ],
   "source": [
    "predictions[\"Predictions\"].value_counts()"
   ]
  },
  {
   "cell_type": "code",
   "execution_count": 41,
   "id": "62da7925",
   "metadata": {},
   "outputs": [
    {
     "data": {
      "text/plain": [
       "0.5887850467289719"
      ]
     },
     "execution_count": 41,
     "metadata": {},
     "output_type": "execute_result"
    }
   ],
   "source": [
    "precision_score(predictions[\"Target\"], predictions[\"Predictions\"])"
   ]
  },
  {
   "cell_type": "code",
   "execution_count": null,
   "id": "0f8a68b3",
   "metadata": {},
   "outputs": [],
   "source": []
  }
 ],
 "metadata": {
  "kernelspec": {
   "display_name": "Python 3 (ipykernel)",
   "language": "python",
   "name": "python3"
  },
  "language_info": {
   "codemirror_mode": {
    "name": "ipython",
    "version": 3
   },
   "file_extension": ".py",
   "mimetype": "text/x-python",
   "name": "python",
   "nbconvert_exporter": "python",
   "pygments_lexer": "ipython3",
   "version": "3.11.4"
  }
 },
 "nbformat": 4,
 "nbformat_minor": 5
}
